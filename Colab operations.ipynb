{
  "cells": [
    {
      "cell_type": "markdown",
      "metadata": {
        "id": "rlX9RzFJRoW-"
      },
      "source": [
        "# Usefull Notebook operation functions\n"
      ]
    },
    {
      "cell_type": "markdown",
      "metadata": {},
      "source": [
        "# Connect Google Drive"
      ]
    },
    {
      "cell_type": "code",
      "execution_count": null,
      "metadata": {},
      "outputs": [],
      "source": [
        "from google.colab import drive\n",
        "drive.mount('/content/drive')"
      ]
    },
    {
      "cell_type": "markdown",
      "metadata": {},
      "source": [
        "# Zip Operations"
      ]
    },
    {
      "cell_type": "markdown",
      "metadata": {},
      "source": [
        "### Unzip"
      ]
    },
    {
      "cell_type": "code",
      "execution_count": null,
      "metadata": {},
      "outputs": [],
      "source": [
        "!unzip \"/content/drive/path/input_file_name.zip\" -d \"/content/drive/path/output_folder/\""
      ]
    },
    {
      "cell_type": "markdown",
      "metadata": {},
      "source": [
        "### Zip"
      ]
    },
    {
      "cell_type": "code",
      "execution_count": null,
      "metadata": {},
      "outputs": [],
      "source": [
        "!zip \"/content/drive/path/output_file_name.zip\" \"/content/drive/My Drive/dir\""
      ]
    },
    {
      "cell_type": "markdown",
      "metadata": {},
      "source": [
        "# RAR Operations\n",
        "### Use: `!apt-get install rar`"
      ]
    },
    {
      "cell_type": "markdown",
      "metadata": {},
      "source": [
        "### Unrar"
      ]
    },
    {
      "cell_type": "code",
      "execution_count": null,
      "metadata": {},
      "outputs": [],
      "source": [
        "!unrar x \"/content/drive/path/input_file_name.rar\" \"/content/drive/path/output_folder/\""
      ]
    },
    {
      "cell_type": "markdown",
      "metadata": {},
      "source": [
        "### RAR"
      ]
    },
    {
      "cell_type": "code",
      "execution_count": null,
      "metadata": {},
      "outputs": [],
      "source": [
        "!rar a \"/content/drive/path/output_file_name\" \"/content/drive/path/input_file_or_folder\""
      ]
    },
    {
      "cell_type": "markdown",
      "metadata": {},
      "source": [
        "## TAR Operations"
      ]
    },
    {
      "cell_type": "markdown",
      "metadata": {},
      "source": [
        "### UnTAR"
      ]
    },
    {
      "cell_type": "code",
      "execution_count": null,
      "metadata": {},
      "outputs": [],
      "source": [
        "!tar -xvf \"/content/drive/path/input_file_name.tar\" -C \"/content/drive/path/output_folder/\"     #[run this cell to extract tar files]\n",
        "\n",
        "!tar -xzvf \"/content/drive/path/input_file_name.tar.gz\" -C \"/content/drive/path/output_folder/\"     #[run this cell to extract tar.gz files]\n",
        "\n",
        "!tar -xjvf \"/content/drive/path/input_file_name.tar.bz2\" -C \"/content/drive/path/output_folder/\"     #[run this cell to extract tar.bz2 files]\n",
        "\n",
        "\n",
        "# -x : Extract a tar ball.\n",
        "# -v : Verbose output or show progress while extracting files.\n",
        "# -f : Specify an archive or a tarball filename.\n",
        "# -C : Specify a different directory to extract\n",
        "# -z : Decompress and extract the contents of the compressed archive created by gzip program (tar.gz extension).\n",
        "# -j : Decompress and extract the contents of the compressed archive created by bzip2 program (tar.bz2 extension)."
      ]
    },
    {
      "cell_type": "markdown",
      "metadata": {},
      "source": [
        "### TAR"
      ]
    },
    {
      "cell_type": "code",
      "execution_count": null,
      "metadata": {},
      "outputs": [],
      "source": [
        "!tar -cvf \"/content/drive/path/output_file_name.tar\" \"/content/drive/path/input_file_or_folder\"     #[run this cell to create tar files]\n",
        "\n",
        "!tar -czvf \"/content/drive/path/output_file_name.tar.gz\" \"/content/drive/path/input_file_or_folder\"     #[run this cell to create tar.gz files]\n",
        "\n",
        "!tar -cjvf \"/content/drive/path/output_file_name.tar.bz2\" \"/content/drive/path/input_file_or_folder\" #[run this cell to create tar.bz2 files]\n",
        "\n",
        "\n",
        "# -c : Create a new archive\n",
        "# -v : Verbose output\n",
        "# -f : Use the given archive file (name.extention)\n",
        "# -z : Filter the archive through gzip\n",
        "# -j : Filter the archive through bzip2\n",
        "# output_file, input_file_or_folder"
      ]
    },
    {
      "cell_type": "markdown",
      "metadata": {},
      "source": []
    }
  ],
  "metadata": {
    "accelerator": "GPU",
    "colab": {
      "collapsed_sections": [
        "CFFPQjl-iX0m",
        "hi4f8Ba-diVf",
        "bAls_UEYfwIX",
        "IoAshgcf45gs",
        "o1PFiGyMAMvg",
        "mOnUdLJqVaYA",
        "VKdYIG49VaYA",
        "BjYXYIk0VaYE",
        "Dm58cAVSAFbr"
      ],
      "name": "Unrar, Unzip, Untar Rar, Zip, Tar in GDrive",
      "provenance": [],
      "toc_visible": true
    },
    "kernelspec": {
      "display_name": "Python 3",
      "name": "python3"
    },
    "language_info": {
      "codemirror_mode": {
        "name": "ipython",
        "version": 3
      },
      "file_extension": ".py",
      "mimetype": "text/x-python",
      "name": "python",
      "nbconvert_exporter": "python",
      "pygments_lexer": "ipython3",
      "version": "3.10.9"
    }
  },
  "nbformat": 4,
  "nbformat_minor": 0
}
